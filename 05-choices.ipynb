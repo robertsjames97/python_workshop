{
 "cells": [
  {
   "cell_type": "code",
   "execution_count": 1,
   "metadata": {},
   "outputs": [
    {
     "name": "stdout",
     "output_type": "stream",
     "text": [
      "not greater\n",
      "done\n"
     ]
    }
   ],
   "source": [
    "num = 47\n",
    "\n",
    "if num > 100:\n",
    "    print(\"greater\")\n",
    "else:\n",
    "    print(\"not greater\")\n",
    "print(\"done\")"
   ]
  },
  {
   "cell_type": "code",
   "execution_count": 2,
   "metadata": {},
   "outputs": [
    {
     "name": "stdout",
     "output_type": "stream",
     "text": [
      "positive\n"
     ]
    }
   ],
   "source": [
    "num = 42\n",
    "\n",
    "if num > 0:\n",
    "    print(\"positive\")\n",
    "elif num < 0:\n",
    "    print(\"negative\")\n",
    "else:\n",
    "    print(\"It's zero!\")"
   ]
  },
  {
   "cell_type": "code",
   "execution_count": 3,
   "metadata": {},
   "outputs": [
    {
     "data": {
      "text/plain": [
       "True"
      ]
     },
     "execution_count": 3,
     "metadata": {},
     "output_type": "execute_result"
    }
   ],
   "source": [
    "num > 0"
   ]
  },
  {
   "cell_type": "code",
   "execution_count": 4,
   "metadata": {},
   "outputs": [
    {
     "data": {
      "text/plain": [
       "False"
      ]
     },
     "execution_count": 4,
     "metadata": {},
     "output_type": "execute_result"
    }
   ],
   "source": [
    "(num > 0) and (num > 50)"
   ]
  },
  {
   "cell_type": "code",
   "execution_count": 5,
   "metadata": {},
   "outputs": [],
   "source": [
    "import numpy as np\n",
    "\n",
    "data = np.loadtxt(fname='data/inflammation-01.csv', delimiter=',')"
   ]
  },
  {
   "cell_type": "code",
   "execution_count": 7,
   "metadata": {},
   "outputs": [
    {
     "name": "stdout",
     "output_type": "stream",
     "text": [
      "Suspicious looking maxima\n"
     ]
    }
   ],
   "source": [
    "if data.max(axis=0)[0] == 0 and data.max(axis=0)[20] == 20:\n",
    "    print(\"Suspicious looking maxima\")\n",
    "elif data.min(axis=0).sum() == 0:\n",
    "    print(\"Minima add up to zero\")\n",
    "else:\n",
    "    print(\"Seems okay!\")"
   ]
  },
  {
   "cell_type": "code",
   "execution_count": 8,
   "metadata": {},
   "outputs": [
    {
     "name": "stdout",
     "output_type": "stream",
     "text": [
      "Suspicious looking maxima\n",
      "Suspicious looking maxima\n",
      "Minima add up to zero\n",
      "Suspicious looking maxima\n",
      "Suspicious looking maxima\n",
      "Suspicious looking maxima\n",
      "Suspicious looking maxima\n",
      "Minima add up to zero\n",
      "Suspicious looking maxima\n",
      "Suspicious looking maxima\n",
      "Minima add up to zero\n",
      "Suspicious looking maxima\n"
     ]
    }
   ],
   "source": [
    "import glob\n",
    "filenames = sorted(glob.glob(\"data/inflammation*.csv\"))\n",
    "\n",
    "%matplotlib inline\n",
    "\n",
    "import numpy as np\n",
    "import matplotlib.pyplot\n",
    "\n",
    "for file_x in filenames:\n",
    "    \n",
    "    data = np.loadtxt(fname=file_x, delimiter=',')\n",
    "    \n",
    "    if data.max(axis=0)[0] == 0 and data.max(axis=0)[20] == 20:\n",
    "        print(\"Suspicious looking maxima\")\n",
    "    elif data.min(axis=0).sum() == 0:\n",
    "        print(\"Minima add up to zero\")\n",
    "    else:\n",
    "    \n",
    "        fig = matplotlib.pyplot.figure(figsize=(5, 10))\n",
    "\n",
    "        axes1 = fig.add_subplot(3, 1, 1)\n",
    "        axes2 = fig.add_subplot(3, 1, 2)\n",
    "        axes3 = fig.add_subplot(3, 1, 3)\n",
    "\n",
    "        axes1.set_ylabel('average')\n",
    "        axes1.plot(data.mean(axis=0))\n",
    "\n",
    "        axes2.set_ylabel('max')\n",
    "        axes2.plot(data.max(axis=0))\n",
    "\n",
    "        axes3.set_ylabel('min')\n",
    "        axes3.set_ylim(0,6)\n",
    "        axes3.plot(data.min(axis=0))\n",
    "\n",
    "        fig.tight_layout()\n",
    "        matplotlib.pyplot.show()"
   ]
  },
  {
   "cell_type": "code",
   "execution_count": null,
   "metadata": {},
   "outputs": [],
   "source": []
  }
 ],
 "metadata": {
  "kernelspec": {
   "display_name": "Python 3",
   "language": "python",
   "name": "python3"
  },
  "language_info": {
   "codemirror_mode": {
    "name": "ipython",
    "version": 3
   },
   "file_extension": ".py",
   "mimetype": "text/x-python",
   "name": "python",
   "nbconvert_exporter": "python",
   "pygments_lexer": "ipython3",
   "version": "3.6.3"
  }
 },
 "nbformat": 4,
 "nbformat_minor": 2
}
