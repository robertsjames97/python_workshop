{
 "cells": [
  {
   "cell_type": "code",
   "execution_count": 1,
   "metadata": {},
   "outputs": [
    {
     "name": "stdout",
     "output_type": "stream",
     "text": [
      "t\n",
      "i\n",
      "n\n"
     ]
    }
   ],
   "source": [
    "word = \"tin\"\n",
    "\n",
    "print(word[0])\n",
    "print(word[1])\n",
    "print(word[2])"
   ]
  },
  {
   "cell_type": "code",
   "execution_count": 2,
   "metadata": {},
   "outputs": [
    {
     "name": "stdout",
     "output_type": "stream",
     "text": [
      "o\n",
      "x\n",
      "y\n",
      "g\n",
      "e\n",
      "n\n",
      "oxygen\n"
     ]
    }
   ],
   "source": [
    "word = \"oxygen\"\n",
    "\n",
    "for char in word:\n",
    "    print(char)\n",
    "    \n",
    "print(word)"
   ]
  },
  {
   "cell_type": "code",
   "execution_count": 3,
   "metadata": {},
   "outputs": [
    {
     "name": "stdout",
     "output_type": "stream",
     "text": [
      "There are 5 vowels\n"
     ]
    }
   ],
   "source": [
    "length = 0\n",
    "for vowel in \"aeiou\":\n",
    "    length += 1\n",
    "print(\"There are\", length, \"vowels\")"
   ]
  },
  {
   "cell_type": "code",
   "execution_count": 4,
   "metadata": {},
   "outputs": [
    {
     "name": "stdout",
     "output_type": "stream",
     "text": [
      "5\n"
     ]
    }
   ],
   "source": [
    "print(len(\"aeiou\"))"
   ]
  },
  {
   "cell_type": "code",
   "execution_count": 5,
   "metadata": {},
   "outputs": [
    {
     "name": "stdout",
     "output_type": "stream",
     "text": [
      "range(0, 3)\n",
      "0\n",
      "1\n",
      "2\n",
      "range(2, 5)\n",
      "2\n",
      "3\n",
      "4\n",
      "range(3, 10, 3)\n",
      "3\n",
      "6\n",
      "9\n"
     ]
    }
   ],
   "source": [
    "print(range(3))\n",
    "for number in range(3):\n",
    "    print(number)\n",
    "    \n",
    "print(range(2, 5))\n",
    "for number in range(2, 5):\n",
    "    print(number)\n",
    "\n",
    "print(range(3, 10, 3))\n",
    "for number in range(3, 10, 3):\n",
    "    print(number)"
   ]
  },
  {
   "cell_type": "code",
   "execution_count": 6,
   "metadata": {},
   "outputs": [
    {
     "name": "stdout",
     "output_type": "stream",
     "text": [
      "5\n",
      "4\n",
      "3\n",
      "2\n",
      "1\n",
      "0\n"
     ]
    }
   ],
   "source": [
    "for number in range(5, -1, -1):\n",
    "    print(number)"
   ]
  },
  {
   "cell_type": "code",
   "execution_count": 7,
   "metadata": {},
   "outputs": [
    {
     "name": "stdout",
     "output_type": "stream",
     "text": [
      "moderob\n"
     ]
    }
   ],
   "source": [
    "word = \"boredom\"\n",
    "newWord = \"\"\n",
    "for letter in range(len(word)-1, -1, -1):\n",
    "    newWord += word[letter]\n",
    "    \n",
    "print(newWord)"
   ]
  },
  {
   "cell_type": "code",
   "execution_count": 8,
   "metadata": {},
   "outputs": [
    {
     "name": "stdout",
     "output_type": "stream",
     "text": [
      "moderob\n"
     ]
    }
   ],
   "source": [
    "newWord = \"\"\n",
    "for letter in word:\n",
    "    newWord = letter + newWord\n",
    "print(newWord)"
   ]
  },
  {
   "cell_type": "code",
   "execution_count": 9,
   "metadata": {},
   "outputs": [
    {
     "name": "stdout",
     "output_type": "stream",
     "text": [
      "moderob\n"
     ]
    }
   ],
   "source": [
    "newWord = word[::-1]\n",
    "print(newWord)"
   ]
  },
  {
   "cell_type": "code",
   "execution_count": null,
   "metadata": {},
   "outputs": [],
   "source": []
  }
 ],
 "metadata": {
  "kernelspec": {
   "display_name": "Python 3",
   "language": "python",
   "name": "python3"
  },
  "language_info": {
   "codemirror_mode": {
    "name": "ipython",
    "version": 3
   },
   "file_extension": ".py",
   "mimetype": "text/x-python",
   "name": "python",
   "nbconvert_exporter": "python",
   "pygments_lexer": "ipython3",
   "version": "3.6.3"
  }
 },
 "nbformat": 4,
 "nbformat_minor": 2
}
